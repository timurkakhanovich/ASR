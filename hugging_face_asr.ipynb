{
 "cells": [
  {
   "cell_type": "code",
   "execution_count": 4,
   "id": "98dde57d-1450-486e-900a-3aa180760304",
   "metadata": {},
   "outputs": [],
   "source": [
    "import torch\n",
    "import torchaudio\n",
    "from torch.utils.data import DataLoader\n",
    "\n",
    "from transformers import (\n",
    "    Speech2TextProcessor, \n",
    "    Speech2TextTokenizer, \n",
    "    Speech2TextForConditionalGeneration\n",
    ")\n",
    "\n",
    "from typing import Tuple, Dict"
   ]
  },
  {
   "cell_type": "code",
   "execution_count": 5,
   "id": "72c78a66-27b8-40f2-95f6-1b65b522440c",
   "metadata": {},
   "outputs": [],
   "source": [
    "processor = Speech2TextProcessor.from_pretrained(\"facebook/s2t-small-librispeech-asr\")\n",
    "tokenizer = Speech2TextTokenizer.from_pretrained(\"facebook/s2t-small-librispeech-asr\")\n",
    "model = Speech2TextForConditionalGeneration.from_pretrained(\"facebook/s2t-medium-mustc-multilingual-st\")"
   ]
  },
  {
   "cell_type": "code",
   "execution_count": 19,
   "id": "8c144e07-cddd-4275-bacb-b56a7de10219",
   "metadata": {},
   "outputs": [],
   "source": [
    "def preprocessing(sample: Tuple[torch.Tensor, int, str, int, int, int]) -> Dict[str, torch.Tensor]:\n",
    "    batch = dict()\n",
    "    batch[\"input_values\"] = processor(\n",
    "        sample[0][0], sampling_rate=16_000, padding=True, return_tensors=\"pt\"\n",
    "    ).input_features[0]\n",
    "    \n",
    "    with processor.as_target_processor():\n",
    "        batch[\"labels\"] = processor(sample[2], padding=True, return_tensors=\"pt\").input_ids\n",
    "    \n",
    "    return batch"
   ]
  },
  {
   "cell_type": "code",
   "execution_count": 20,
   "id": "10048a2d-28de-4d2f-886a-8f4227fa8c00",
   "metadata": {},
   "outputs": [],
   "source": [
    "dataset = torchaudio.datasets.LIBRISPEECH(root=\"\", url='dev-clean')\n",
    "dataset = dataset.map(preprocessing)"
   ]
  },
  {
   "cell_type": "code",
   "execution_count": 21,
   "id": "e09c8dc3-3a0d-480d-8301-911fc64b76ab",
   "metadata": {},
   "outputs": [
    {
     "data": {
      "text/plain": [
       "{'input_values': tensor([[-1.7439, -1.5824, -1.3852,  ..., -1.4764, -1.3188, -1.5373],\n",
       "         [-1.7372, -1.5597, -1.5623,  ..., -1.3479, -1.4273, -1.6317],\n",
       "         [-1.4334, -1.3532, -1.2806,  ..., -1.5108, -1.3358, -1.4236],\n",
       "         ...,\n",
       "         [-1.6064, -1.5294, -1.5514,  ..., -1.0002, -1.0575, -1.0322],\n",
       "         [-1.7444, -1.6128, -1.4223,  ..., -1.0696, -0.9122, -1.0744],\n",
       "         [-1.3830, -1.3087, -1.3786,  ..., -1.0823, -1.0664, -1.1232]]),\n",
       " 'labels': tensor([[ 129, 8053,   66,   30,    4, 5878,    8,    4, 1080, 3353,    5,    6,\n",
       "            52,   60,  534,    9, 1524,   20, 5517,    2]])}"
      ]
     },
     "execution_count": 21,
     "metadata": {},
     "output_type": "execute_result"
    }
   ],
   "source": [
    "dataset[0]"
   ]
  },
  {
   "cell_type": "code",
   "execution_count": 29,
   "id": "e11a306f-b524-4fcd-b758-23797c66fe96",
   "metadata": {},
   "outputs": [],
   "source": [
    "class DataCollator(object):\n",
    "    def __init__(self, processor: Speech2TextProcessor, padding=True, \n",
    "                 max_length=None, max_length_labels=None, \n",
    "                 pad_to_multiple_of=None, pad_to_multiple_of_labels=None):\n",
    "        self.processor = processor\n",
    "        self.padding = padding\n",
    "        self.max_length = max_length\n",
    "        self.max_length_labels = max_length_labels\n",
    "        self.pad_to_multiple_of = pad_to_multiple_of\n",
    "        self.pad_to_multiple_of_labels = pad_to_multiple_of_labels\n",
    "    \n",
    "    def __call__(self, features: List[Dict[str, Union[List[int], torch.Tensor]]]) -> Dict[str, torch.Tensor]:\n",
    "        input_features = [{\"input_values\": feature[\"input_values\"]} for feature in features]\n",
    "        label_features = [{\"input_ids\": feature[\"labels\"]} for feature in features]\n",
    "        \n",
    "        batch = self.processor.pad(\n",
    "            input_features, \n",
    "            padding=self.padding, \n",
    "            max_length=self.max_length, \n",
    "            pad_to_multiple_of=self.pad_to_multiple_of, \n",
    "            return_tensors=\"pt\"\n",
    "        )\n",
    "        \n",
    "        with self.processor.as_target_processor():\n",
    "            labels_batch = self.processor.pad(\n",
    "                label_features, \n",
    "                padding=self.padding, \n",
    "                max_length=self.max_length, \n",
    "                pad_to_multiple_of=self.pad_to_multiple_of_labels, \n",
    "                return_tensors=\"pt\"\n",
    "            )\n",
    "        \n",
    "        labels = labels_batch[\"input_ids\"].masked_fill(labels_batch.attention_mask.ne(1), -100)\n",
    "        \n",
    "        batch[\"labels\"] = labels\n",
    "        \n",
    "        return batch"
   ]
  },
  {
   "cell_type": "markdown",
   "id": "bf6fefcf-8e67-4715-9fcd-480d7757b6ae",
   "metadata": {},
   "source": [
    "## Wav2Vec"
   ]
  },
  {
   "cell_type": "code",
   "execution_count": 1,
   "id": "ccfd3a7a-2ab6-46fa-85e1-5504ef6fe9f5",
   "metadata": {},
   "outputs": [],
   "source": [
    "from huggingface_hub import notebook_login"
   ]
  },
  {
   "cell_type": "code",
   "execution_count": 2,
   "id": "9b4e05e8-2799-4d26-b340-d43f7e593b6d",
   "metadata": {},
   "outputs": [
    {
     "data": {
      "application/vnd.jupyter.widget-view+json": {
       "model_id": "60c0baeebee34541938c359df2e95813",
       "version_major": 2,
       "version_minor": 0
      },
      "text/plain": [
       "VBox(children=(HTML(value='<center>\\n<img src=https://huggingface.co/front/assets/huggingface_logo-noborder.sv…"
      ]
     },
     "metadata": {},
     "output_type": "display_data"
    }
   ],
   "source": [
    "notebook_login()"
   ]
  },
  {
   "cell_type": "code",
   "execution_count": 3,
   "id": "6e3f9945-c187-4d8a-a897-1fd8954dbc98",
   "metadata": {},
   "outputs": [],
   "source": [
    "from datasets import load_dataset, load_metric"
   ]
  },
  {
   "cell_type": "code",
   "execution_count": 9,
   "id": "f55fa3d1-9160-47ff-9da0-95c9724d8f0e",
   "metadata": {},
   "outputs": [
    {
     "name": "stderr",
     "output_type": "stream",
     "text": [
      "Reusing dataset timit_asr (/home/tsimur/.cache/huggingface/datasets/timit_asr/clean/2.0.1/b11b576ddcccbcefa7c9f0c4e6c2a43756f3033adffe0fb686aa61043d0450ad)\n"
     ]
    },
    {
     "data": {
      "application/vnd.jupyter.widget-view+json": {
       "model_id": "da899abe9021420a8c01c2d69cd4fd88",
       "version_major": 2,
       "version_minor": 0
      },
      "text/plain": [
       "  0%|          | 0/2 [00:00<?, ?it/s]"
      ]
     },
     "metadata": {},
     "output_type": "display_data"
    }
   ],
   "source": [
    "timit = load_dataset(\"timit_asr\")"
   ]
  },
  {
   "cell_type": "code",
   "execution_count": 10,
   "id": "7d161890-cec2-4cd9-8113-b5875d8d3ae1",
   "metadata": {},
   "outputs": [
    {
     "data": {
      "text/plain": [
       "DatasetDict({\n",
       "    train: Dataset({\n",
       "        features: ['file', 'audio', 'text'],\n",
       "        num_rows: 4620\n",
       "    })\n",
       "    test: Dataset({\n",
       "        features: ['file', 'audio', 'text'],\n",
       "        num_rows: 1680\n",
       "    })\n",
       "})"
      ]
     },
     "execution_count": 10,
     "metadata": {},
     "output_type": "execute_result"
    }
   ],
   "source": [
    "timit = timit.remove_columns([\"phonetic_detail\", \"word_detail\", \"dialect_region\", \"id\", \"sentence_type\", \"speaker_id\"])\n",
    "timit"
   ]
  },
  {
   "cell_type": "code",
   "execution_count": 11,
   "id": "c7e82260-b222-4093-bf1d-dd1da2b8806a",
   "metadata": {},
   "outputs": [],
   "source": [
    "from datasets import ClassLabel\n",
    "import random\n",
    "import pandas as pd\n",
    "from IPython.display import display, HTML"
   ]
  },
  {
   "cell_type": "code",
   "execution_count": 12,
   "id": "11604a67-75ba-4215-bd9c-980bebad6cdd",
   "metadata": {},
   "outputs": [
    {
     "data": {
      "text/html": [
       "<table border=\"1\" class=\"dataframe\">\n",
       "  <thead>\n",
       "    <tr style=\"text-align: right;\">\n",
       "      <th></th>\n",
       "      <th>text</th>\n",
       "    </tr>\n",
       "  </thead>\n",
       "  <tbody>\n",
       "    <tr>\n",
       "      <th>0</th>\n",
       "      <td>Baseball's no cinch.</td>\n",
       "    </tr>\n",
       "    <tr>\n",
       "      <th>1</th>\n",
       "      <td>For roast, insert meat thermometer diagonally so it does not rest on bone.</td>\n",
       "    </tr>\n",
       "    <tr>\n",
       "      <th>2</th>\n",
       "      <td>Where're you takin' me?</td>\n",
       "    </tr>\n",
       "    <tr>\n",
       "      <th>3</th>\n",
       "      <td>Chocolate and roses never fail as a romantic gift.</td>\n",
       "    </tr>\n",
       "    <tr>\n",
       "      <th>4</th>\n",
       "      <td>Although always alone, we survive.</td>\n",
       "    </tr>\n",
       "    <tr>\n",
       "      <th>5</th>\n",
       "      <td>Those answers will be straightforward if you think them through carefully first.</td>\n",
       "    </tr>\n",
       "    <tr>\n",
       "      <th>6</th>\n",
       "      <td>Challenge each general's intelligence.</td>\n",
       "    </tr>\n",
       "    <tr>\n",
       "      <th>7</th>\n",
       "      <td>We saw eight tiny icicles below our roof.</td>\n",
       "    </tr>\n",
       "    <tr>\n",
       "      <th>8</th>\n",
       "      <td>Thomas thinks a larger clamp solves the problem.</td>\n",
       "    </tr>\n",
       "    <tr>\n",
       "      <th>9</th>\n",
       "      <td>The larvae, kept warm by the queen, are full grown in about ten days.</td>\n",
       "    </tr>\n",
       "  </tbody>\n",
       "</table>"
      ],
      "text/plain": [
       "<IPython.core.display.HTML object>"
      ]
     },
     "metadata": {},
     "output_type": "display_data"
    }
   ],
   "source": [
    "def show_random_elements(dataset, num_examples=10):\n",
    "    assert num_examples <= len(dataset), \"Can't pick more elements than there are in the dataset.\"\n",
    "    picks = list()\n",
    "    for _ in range(num_examples):\n",
    "        pick = random.randint(0, len(dataset)-1)\n",
    "        while pick in picks:\n",
    "            pick = random.randint(0, len(dataset)-1)\n",
    "        picks.append(pick)\n",
    "    \n",
    "    df = pd.DataFrame(dataset[picks])\n",
    "    display(HTML(df.to_html()))\n",
    "\n",
    "show_random_elements(timit[\"train\"].remove_columns([\"file\", \"audio\"]))"
   ]
  },
  {
   "cell_type": "code",
   "execution_count": 13,
   "id": "7b9b0bef-c511-4e7a-a58d-0f6eb972e7b2",
   "metadata": {},
   "outputs": [
    {
     "data": {
      "application/vnd.jupyter.widget-view+json": {
       "model_id": "55ad892a0f1c4677a86aa3791fdcd2f8",
       "version_major": 2,
       "version_minor": 0
      },
      "text/plain": [
       "0ex [00:00, ?ex/s]"
      ]
     },
     "metadata": {},
     "output_type": "display_data"
    },
    {
     "data": {
      "application/vnd.jupyter.widget-view+json": {
       "model_id": "8de02d1469644682bb82929411dc36a1",
       "version_major": 2,
       "version_minor": 0
      },
      "text/plain": [
       "0ex [00:00, ?ex/s]"
      ]
     },
     "metadata": {},
     "output_type": "display_data"
    }
   ],
   "source": [
    "import re\n",
    "chars_to_ignore_regex = '[\\,\\?\\.\\!\\-\\;\\:\\\"]'\n",
    "\n",
    "def remove_special_characters(batch):\n",
    "    batch[\"text\"] = re.sub(chars_to_ignore_regex, '', batch[\"text\"]).lower()\n",
    "    return batch\n",
    "\n",
    "timit = timit.map(remove_special_characters)"
   ]
  },
  {
   "cell_type": "code",
   "execution_count": 14,
   "id": "aa79227d-2ae3-4660-a7da-48f813fe521f",
   "metadata": {},
   "outputs": [
    {
     "data": {
      "text/html": [
       "<table border=\"1\" class=\"dataframe\">\n",
       "  <thead>\n",
       "    <tr style=\"text-align: right;\">\n",
       "      <th></th>\n",
       "      <th>text</th>\n",
       "    </tr>\n",
       "  </thead>\n",
       "  <tbody>\n",
       "    <tr>\n",
       "      <th>0</th>\n",
       "      <td>an adult male baboon's teeth are not suitable for eating shellfish</td>\n",
       "    </tr>\n",
       "    <tr>\n",
       "      <th>1</th>\n",
       "      <td>vietnamese cuisine is exquisite</td>\n",
       "    </tr>\n",
       "    <tr>\n",
       "      <th>2</th>\n",
       "      <td>she had your dark suit in greasy wash water all year</td>\n",
       "    </tr>\n",
       "    <tr>\n",
       "      <th>3</th>\n",
       "      <td>cut a small corner off each edge</td>\n",
       "    </tr>\n",
       "    <tr>\n",
       "      <th>4</th>\n",
       "      <td>keep your seats boys i just want to put some finishing touches on this thing</td>\n",
       "    </tr>\n",
       "    <tr>\n",
       "      <th>5</th>\n",
       "      <td>rockandroll music has a great rhythm</td>\n",
       "    </tr>\n",
       "    <tr>\n",
       "      <th>6</th>\n",
       "      <td>she had your dark suit in greasy wash water all year</td>\n",
       "    </tr>\n",
       "    <tr>\n",
       "      <th>7</th>\n",
       "      <td>we experience distress and frustration obtaining our degrees</td>\n",
       "    </tr>\n",
       "    <tr>\n",
       "      <th>8</th>\n",
       "      <td>don't ask me to carry an oily rag like that</td>\n",
       "    </tr>\n",
       "    <tr>\n",
       "      <th>9</th>\n",
       "      <td>please sing just the club theme</td>\n",
       "    </tr>\n",
       "  </tbody>\n",
       "</table>"
      ],
      "text/plain": [
       "<IPython.core.display.HTML object>"
      ]
     },
     "metadata": {},
     "output_type": "display_data"
    }
   ],
   "source": [
    "show_random_elements(timit[\"train\"].remove_columns([\"file\", \"audio\"]))"
   ]
  },
  {
   "cell_type": "code",
   "execution_count": 15,
   "id": "a7cdb69d-5c0e-44cb-bafb-593b2b0c536e",
   "metadata": {},
   "outputs": [],
   "source": [
    "def extract_all_chars(batch):\n",
    "    all_text = \" \".join(batch['text'])\n",
    "    vocab = list(set(all_text))\n",
    "    \n",
    "    return {\n",
    "        'vocab': [vocab], \n",
    "        'all_text': [all_text]\n",
    "    }"
   ]
  },
  {
   "cell_type": "code",
   "execution_count": 16,
   "id": "eb223753-fdea-4b44-9ed0-236c436fee97",
   "metadata": {},
   "outputs": [
    {
     "data": {
      "application/vnd.jupyter.widget-view+json": {
       "model_id": "f00b4d3ccb5a4f3db9f2c4ab11f6e949",
       "version_major": 2,
       "version_minor": 0
      },
      "text/plain": [
       "  0%|          | 0/1 [00:00<?, ?ba/s]"
      ]
     },
     "metadata": {},
     "output_type": "display_data"
    },
    {
     "data": {
      "application/vnd.jupyter.widget-view+json": {
       "model_id": "048288b853ed4e18b33ae8a6ff2fc28d",
       "version_major": 2,
       "version_minor": 0
      },
      "text/plain": [
       "  0%|          | 0/1 [00:00<?, ?ba/s]"
      ]
     },
     "metadata": {},
     "output_type": "display_data"
    }
   ],
   "source": [
    "vocabs = timit.map(extract_all_chars, batched=True, batch_size=-1, \n",
    "                   keep_in_memory=True, remove_columns=timit.column_names['train'])"
   ]
  },
  {
   "cell_type": "code",
   "execution_count": 19,
   "id": "cba8aed9-7be8-4b1a-93ed-ef486029e835",
   "metadata": {},
   "outputs": [
    {
     "data": {
      "text/plain": [
       "DatasetDict({\n",
       "    train: Dataset({\n",
       "        features: ['vocab', 'all_text'],\n",
       "        num_rows: 1\n",
       "    })\n",
       "    test: Dataset({\n",
       "        features: ['vocab', 'all_text'],\n",
       "        num_rows: 1\n",
       "    })\n",
       "})"
      ]
     },
     "execution_count": 19,
     "metadata": {},
     "output_type": "execute_result"
    }
   ],
   "source": [
    "vocabs"
   ]
  },
  {
   "cell_type": "code",
   "execution_count": 20,
   "id": "a69dc3f2-aef1-4ee5-b8a2-87860f5e6c19",
   "metadata": {},
   "outputs": [
    {
     "data": {
      "text/plain": [
       "{'j': 0,\n",
       " 'y': 1,\n",
       " 'r': 2,\n",
       " 't': 3,\n",
       " \"'\": 4,\n",
       " 'k': 5,\n",
       " 'z': 6,\n",
       " 'i': 7,\n",
       " 'e': 8,\n",
       " 'p': 9,\n",
       " 'q': 10,\n",
       " 's': 11,\n",
       " 'o': 12,\n",
       " 'l': 13,\n",
       " 'w': 14,\n",
       " 'u': 15,\n",
       " ' ': 16,\n",
       " 'c': 17,\n",
       " 'x': 18,\n",
       " 'b': 19,\n",
       " 'n': 20,\n",
       " 'f': 21,\n",
       " 'd': 22,\n",
       " 'm': 23,\n",
       " 'v': 24,\n",
       " 'h': 25,\n",
       " 'g': 26,\n",
       " 'a': 27}"
      ]
     },
     "execution_count": 20,
     "metadata": {},
     "output_type": "execute_result"
    }
   ],
   "source": [
    "vocab_list = list(set(vocabs[\"train\"][\"vocab\"][0]) | set(vocabs[\"test\"][\"vocab\"][0]))\n",
    "\n",
    "vocab_dict = {v: k for k, v in enumerate(vocab_list)}\n",
    "vocab_dict"
   ]
  },
  {
   "cell_type": "code",
   "execution_count": null,
   "id": "2197a94b-52cf-4263-bab9-325b36be4683",
   "metadata": {},
   "outputs": [],
   "source": []
  }
 ],
 "metadata": {
  "kernelspec": {
   "display_name": "Python 3 (ipykernel)",
   "language": "python",
   "name": "python3"
  },
  "language_info": {
   "codemirror_mode": {
    "name": "ipython",
    "version": 3
   },
   "file_extension": ".py",
   "mimetype": "text/x-python",
   "name": "python",
   "nbconvert_exporter": "python",
   "pygments_lexer": "ipython3",
   "version": "3.8.10"
  }
 },
 "nbformat": 4,
 "nbformat_minor": 5
}
