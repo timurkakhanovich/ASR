{
 "cells": [
  {
   "cell_type": "markdown",
   "id": "62b1ce82-f1cc-4edb-842e-9dd2f2244bc9",
   "metadata": {},
   "source": [
    "# Baseline"
   ]
  },
  {
   "cell_type": "markdown",
   "id": "70895be4-4e7e-451b-a85d-bb581a8ab8db",
   "metadata": {},
   "source": [
    "## Hugging Face"
   ]
  },
  {
   "cell_type": "code",
   "execution_count": 32,
   "id": "da881623-ae17-4e2b-8d05-2980722d3209",
   "metadata": {},
   "outputs": [],
   "source": [
    "import torch\n",
    "from transformers import Speech2TextProcessor, Speech2TextForConditionalGeneration\n",
    "from datasets import load_dataset, list_datasets\n",
    "import soundfile as sf"
   ]
  },
  {
   "cell_type": "code",
   "execution_count": 33,
   "id": "56262d13-4aca-43ec-80b8-88cbc66cc05d",
   "metadata": {},
   "outputs": [],
   "source": [
    "def map_to_array(batch):\n",
    "    speech, _ = sf.read(batch[\"file\"])\n",
    "    batch[\"speech\"] = speech\n",
    "    return batch"
   ]
  },
  {
   "cell_type": "code",
   "execution_count": 42,
   "id": "664830b2-9cbd-4997-91c6-7351340106ac",
   "metadata": {},
   "outputs": [
    {
     "name": "stderr",
     "output_type": "stream",
     "text": [
      "Reusing dataset librispeech_asr (/home/timur/.cache/huggingface/datasets/patrickvonplaten___librispeech_asr/clean/2.1.0/f2c70a4d03ab4410954901bde48c54b85ca1b7f9bf7d616e7e2a72b5ee6ddbfc)\n",
      "Loading cached processed dataset at /home/timur/.cache/huggingface/datasets/patrickvonplaten___librispeech_asr/clean/2.1.0/f2c70a4d03ab4410954901bde48c54b85ca1b7f9bf7d616e7e2a72b5ee6ddbfc/cache-27370bacdebb8137.arrow\n"
     ]
    }
   ],
   "source": [
    "libri_set = load_dataset(\n",
    "    \"patrickvonplaten/librispeech_asr_dummy\", \n",
    "    \"clean\", \n",
    "    split='validation'\n",
    ").map(map_to_array)"
   ]
  },
  {
   "cell_type": "code",
   "execution_count": 45,
   "id": "ee9d3bda-0a62-49b7-8064-72e482e1d8f4",
   "metadata": {},
   "outputs": [],
   "source": [
    "model = Speech2TextForConditionalGeneration.from_pretrained(\"facebook/s2t-medium-mustc-multilingual-st\")\n",
    "processor = Speech2TextProcessor.from_pretrained(\"facebook/s2t-small-librispeech-asr\")"
   ]
  },
  {
   "cell_type": "code",
   "execution_count": 43,
   "id": "716a2448-8ada-44d4-88d9-8bd8aaadfd5c",
   "metadata": {},
   "outputs": [],
   "source": [
    "inputs = processor(libri_set[\"speech\"][0], sampling_rate=16000, return_tensors=\"pt\")"
   ]
  },
  {
   "cell_type": "code",
   "execution_count": 48,
   "id": "99a5435f-5656-45b8-a397-716a9f37544b",
   "metadata": {},
   "outputs": [
    {
     "data": {
      "text/plain": [
       "torch.Size([1, 1087, 80])"
      ]
     },
     "execution_count": 48,
     "metadata": {},
     "output_type": "execute_result"
    }
   ],
   "source": [
    "inputs['input_features'].shape"
   ]
  },
  {
   "cell_type": "code",
   "execution_count": null,
   "id": "912b0ef5-607d-4bc3-800a-e0fbf47758eb",
   "metadata": {},
   "outputs": [],
   "source": []
  }
 ],
 "metadata": {
  "kernelspec": {
   "display_name": "Python 3 (ipykernel)",
   "language": "python",
   "name": "python3"
  },
  "language_info": {
   "codemirror_mode": {
    "name": "ipython",
    "version": 3
   },
   "file_extension": ".py",
   "mimetype": "text/x-python",
   "name": "python",
   "nbconvert_exporter": "python",
   "pygments_lexer": "ipython3",
   "version": "3.8.10"
  }
 },
 "nbformat": 4,
 "nbformat_minor": 5
}
